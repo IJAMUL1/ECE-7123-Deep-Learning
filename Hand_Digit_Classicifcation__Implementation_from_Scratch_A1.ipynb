{
  "nbformat": 4,
  "nbformat_minor": 0,
  "metadata": {
    "colab": {
      "provenance": []
    },
    "kernelspec": {
      "name": "python3",
      "display_name": "Python 3"
    },
    "language_info": {
      "name": "python"
    },
    "accelerator": "TPU"
  },
  "cells": [
    {
      "cell_type": "code",
      "execution_count": null,
      "metadata": {
        "id": "j_Q1NQSkQuCT"
      },
      "outputs": [],
      "source": [
        "# We'll start by importing some libraries\n",
        "import numpy as np # Very helpful (and popular!) for mathematical computation\n",
        "import torch # The main deep learning library we'll use (there are others...)\n",
        "import torch.nn as nn\n",
        "import torchvision # Specialized for vision tasks such as recognizing digits\n",
        "import matplotlib.pyplot as plt # Helpful for plotting things (like our images!)"
      ]
    },
    {
      "cell_type": "code",
      "source": [
        "trainingdata = torchvision . datasets. FashionMNIST (\"./FashionMNIST/\",train=True ,download=True , transform = torchvision . transforms . ToTensor ())\n",
        "testdata = torchvision .datasets. FashionMNIST (\"./FashionMNIST/\",train=False ,download=True , transform = torchvision . transforms . ToTensor ())"
      ],
      "metadata": {
        "colab": {
          "base_uri": "https://localhost:8080/"
        },
        "id": "OY4Px7pDQ6NU",
        "outputId": "453e4b08-57a8-4440-d349-b1c3c86e2399"
      },
      "execution_count": null,
      "outputs": [
        {
          "output_type": "stream",
          "name": "stdout",
          "text": [
            "Downloading http://fashion-mnist.s3-website.eu-central-1.amazonaws.com/train-images-idx3-ubyte.gz\n",
            "Downloading http://fashion-mnist.s3-website.eu-central-1.amazonaws.com/train-images-idx3-ubyte.gz to ./FashionMNIST/FashionMNIST/raw/train-images-idx3-ubyte.gz\n"
          ]
        },
        {
          "output_type": "stream",
          "name": "stderr",
          "text": [
            "100%|██████████| 26421880/26421880 [00:01<00:00, 15884509.94it/s]\n"
          ]
        },
        {
          "output_type": "stream",
          "name": "stdout",
          "text": [
            "Extracting ./FashionMNIST/FashionMNIST/raw/train-images-idx3-ubyte.gz to ./FashionMNIST/FashionMNIST/raw\n",
            "\n",
            "Downloading http://fashion-mnist.s3-website.eu-central-1.amazonaws.com/train-labels-idx1-ubyte.gz\n",
            "Downloading http://fashion-mnist.s3-website.eu-central-1.amazonaws.com/train-labels-idx1-ubyte.gz to ./FashionMNIST/FashionMNIST/raw/train-labels-idx1-ubyte.gz\n"
          ]
        },
        {
          "output_type": "stream",
          "name": "stderr",
          "text": [
            "100%|██████████| 29515/29515 [00:00<00:00, 277112.19it/s]\n"
          ]
        },
        {
          "output_type": "stream",
          "name": "stdout",
          "text": [
            "Extracting ./FashionMNIST/FashionMNIST/raw/train-labels-idx1-ubyte.gz to ./FashionMNIST/FashionMNIST/raw\n",
            "\n",
            "Downloading http://fashion-mnist.s3-website.eu-central-1.amazonaws.com/t10k-images-idx3-ubyte.gz\n",
            "Downloading http://fashion-mnist.s3-website.eu-central-1.amazonaws.com/t10k-images-idx3-ubyte.gz to ./FashionMNIST/FashionMNIST/raw/t10k-images-idx3-ubyte.gz\n"
          ]
        },
        {
          "output_type": "stream",
          "name": "stderr",
          "text": [
            "100%|██████████| 4422102/4422102 [00:00<00:00, 4997196.66it/s]\n"
          ]
        },
        {
          "output_type": "stream",
          "name": "stdout",
          "text": [
            "Extracting ./FashionMNIST/FashionMNIST/raw/t10k-images-idx3-ubyte.gz to ./FashionMNIST/FashionMNIST/raw\n",
            "\n",
            "Downloading http://fashion-mnist.s3-website.eu-central-1.amazonaws.com/t10k-labels-idx1-ubyte.gz\n",
            "Downloading http://fashion-mnist.s3-website.eu-central-1.amazonaws.com/t10k-labels-idx1-ubyte.gz to ./FashionMNIST/FashionMNIST/raw/t10k-labels-idx1-ubyte.gz\n"
          ]
        },
        {
          "output_type": "stream",
          "name": "stderr",
          "text": [
            "100%|██████████| 5148/5148 [00:00<00:00, 9630810.43it/s]\n"
          ]
        },
        {
          "output_type": "stream",
          "name": "stdout",
          "text": [
            "Extracting ./FashionMNIST/FashionMNIST/raw/t10k-labels-idx1-ubyte.gz to ./FashionMNIST/FashionMNIST/raw\n",
            "\n"
          ]
        }
      ]
    },
    {
      "cell_type": "code",
      "source": [
        "print(f'There are {len(trainingdata)} training images.')\n",
        "print(f'There are {len(testdata)} test images.')"
      ],
      "metadata": {
        "colab": {
          "base_uri": "https://localhost:8080/"
        },
        "id": "ewVLLjb6RPry",
        "outputId": "87deac45-c6b8-4ccd-8f15-bab96901c81f"
      },
      "execution_count": null,
      "outputs": [
        {
          "output_type": "stream",
          "name": "stdout",
          "text": [
            "There are 60000 training images.\n",
            "There are 10000 test images.\n"
          ]
        }
      ]
    },
    {
      "cell_type": "code",
      "source": [
        "image, label = trainingdata[0]\n",
        "print(image.shape) # A 1x28x28 image. This means one color and on a grid of 28x28 pixels.\n",
        "print(label) # A single number corresponding to the label of this image."
      ],
      "metadata": {
        "colab": {
          "base_uri": "https://localhost:8080/"
        },
        "id": "0sR-6xk8Reqj",
        "outputId": "5ac2ef0b-a708-4e90-909d-b9b7eabcbc8a"
      },
      "execution_count": null,
      "outputs": [
        {
          "output_type": "stream",
          "name": "stdout",
          "text": [
            "torch.Size([1, 28, 28])\n",
            "9\n"
          ]
        }
      ]
    },
    {
      "cell_type": "code",
      "source": [
        "plt.imshow(image.squeeze()) # Plot the 28x28 image\n",
        "plt.show()"
      ],
      "metadata": {
        "colab": {
          "base_uri": "https://localhost:8080/",
          "height": 430
        },
        "id": "ZZSYnf0sRkAj",
        "outputId": "d545291b-88c2-48d5-fe11-dc9ad4e6eafb"
      },
      "execution_count": null,
      "outputs": [
        {
          "output_type": "display_data",
          "data": {
            "text/plain": [
              "<Figure size 640x480 with 1 Axes>"
            ],
            "image/png": "[encoded data removed]"
          },
          "metadata": {}
        }
      ]
    },
    {
      "cell_type": "code",
      "source": [
        "# The DataLoader is a nifty class for wrapping the data so we can load batches easily\n",
        "trainDataLoader = torch.utils.data.DataLoader(trainingdata,batch_size=64,shuffle=True)\n",
        "testDataLoader = torch.utils.data.DataLoader(testdata,batch_size=64,shuffle=False)\n",
        "\n",
        "images, labels = next(iter(trainDataLoader)) # Let's take a look at an example batch\n",
        "print(images.shape) # There are 64 images\n",
        "print(labels.shape) # And the corresponding 64 labels"
      ],
      "metadata": {
        "colab": {
          "base_uri": "https://localhost:8080/"
        },
        "id": "1jxu0uvDRoey",
        "outputId": "97e06a30-de22-47be-c73f-d3d51c5de5e1"
      },
      "execution_count": null,
      "outputs": [
        {
          "output_type": "stream",
          "name": "stdout",
          "text": [
            "torch.Size([64, 1, 28, 28])\n",
            "torch.Size([64])\n"
          ]
        }
      ]
    },
    {
      "cell_type": "code",
      "source": [
        "#Define network variables\n",
        "\n",
        "input_size = 28*28\n",
        "hidden_size1 = 256\n",
        "hidden_size2 = 128\n",
        "hidden_size3 = 64\n",
        "output_size = 10\n"
      ],
      "metadata": {
        "id": "FKh9uOroS2cE"
      },
      "execution_count": null,
      "outputs": []
    },
    {
      "cell_type": "code",
      "source": [
        "# We write this in the standard python class format\n",
        "class Model(nn.Module):\n",
        "  def __init__(self, input_size, hidden_size1, hidden_size2, hidden_size3, output_size):\n",
        "    super(Model, self).__init__()\n",
        "    # Define the first hidden layer\n",
        "    self.layer1 = nn.Linear(input_size, hidden_size1)\n",
        "    self.relu1 = nn.ReLU()\n",
        "\n",
        "    # Define the second hidden layer\n",
        "    self.layer2 = nn.Linear(hidden_size1, hidden_size2)\n",
        "    self.relu2 = nn.ReLU()\n",
        "\n",
        "    # Define the third hidden layer\n",
        "    self.layer3 = nn.Linear(hidden_size2, hidden_size3)\n",
        "    self.relu3 = nn.ReLU()\n",
        "\n",
        "    # Define the output layer\n",
        "    self.output_layer = nn.Linear(hidden_size3, output_size)\n",
        "\n",
        "  def forward(self, x):\n",
        "    x = x.view(-1, 28*28) # Change from 28x28 view to 784 vector\n",
        "    # Forward pass through the network\n",
        "    x = self.layer1(x)\n",
        "    x = self.relu1(x)\n",
        "\n",
        "    x = self.layer2(x)\n",
        "    x = self.relu2(x)\n",
        "\n",
        "    x = self.layer3(x)\n",
        "    x = self.relu3(x)\n",
        "\n",
        "    x = self.output_layer(x)\n",
        "\n",
        "    return x\n",
        "\n",
        "# Step 1: Model\n",
        "model = Model(input_size, hidden_size1, hidden_size2, hidden_size3, output_size) # Use the class we just defined\n",
        "# Step 2: Loss\n",
        "loss = torch.nn.CrossEntropyLoss()\n",
        "# Step 3: Optimizer\n",
        "optimizer = torch.optim.SGD(model.parameters(), lr=0.01) # Use stochastic gradient descent on the weights"
      ],
      "metadata": {
        "id": "gdGc7OzmSFED"
      },
      "execution_count": null,
      "outputs": []
    },
    {
      "cell_type": "code",
      "source": [
        "device = torch.device('cuda' if torch.cuda.is_available() else 'cpu')\n",
        "print(f'We\\'re using the {device}.')\n",
        "# Put the model on the device\n",
        "model = model.to(device)"
      ],
      "metadata": {
        "colab": {
          "base_uri": "https://localhost:8080/"
        },
        "id": "JH82QEAAUKfW",
        "outputId": "55a6b58c-369d-443e-f636-c4feedb047a5"
      },
      "execution_count": null,
      "outputs": [
        {
          "output_type": "stream",
          "name": "stdout",
          "text": [
            "We're using the cpu.\n"
          ]
        }
      ]
    },
    {
      "cell_type": "code",
      "source": [
        "train_losses = []\n",
        "test_losses = []\n",
        "Epoch = 10\n",
        "\n",
        "for epoch in range(Epoch): # We'll train for 5 \"epochs\"\n",
        "  train_loss = 0\n",
        "  test_loss = 0\n",
        "\n",
        "  # Evaluation process\n",
        "  for i, data in enumerate(testDataLoader):\n",
        "    images, labels = data # Unpack the data into the images and labels\n",
        "    images, labels = images.to(device), labels.to(device) # Put on device\n",
        "    predicted_output = model(images) # Apply our network to the images\n",
        "    fit = loss(predicted_output, labels) # Measure how well the predicted output matches the labels\n",
        "    test_loss += fit.item() # Add the fit to the loss for tracking purposes\n",
        "\n",
        "  # Training process\n",
        "  for i, data in enumerate(trainDataLoader):\n",
        "    images, labels = data # Unpack the data into the images and labels\n",
        "    images, labels = images.to(device), labels.to(device) # Put on device\n",
        "    optimizer.zero_grad() # Zero out the gradient values\n",
        "    predicted_output = model(images) # Apply our network to the images\n",
        "    fit = loss(predicted_output, labels) # Measure how well the predicted output matches the labels\n",
        "    fit.backward() # Compute the gradient of the fit with respect to the model parameters\n",
        "    optimizer.step() # Update the weights in the model using gradient descent\n",
        "    train_loss += fit.item() # Add the fit to the loss for tracking purposes\n",
        "\n",
        "  # Add the current losses to our tracking lists\n",
        "  train_losses += [train_loss/len(trainDataLoader)]\n",
        "  test_losses += [test_loss/len(testDataLoader)]\n",
        "\n",
        "  # Print the current loss\n",
        "  print(f'Epoch {epoch}, Train loss {train_loss}, Test loss {test_loss}')\n",
        "\n"
      ],
      "metadata": {
        "colab": {
          "base_uri": "https://localhost:8080/"
        },
        "id": "A1eEZBQpU6An",
        "outputId": "355cb96a-69d9-4e0d-c543-7df564c66632"
      },
      "execution_count": null,
      "outputs": [
        {
          "output_type": "stream",
          "name": "stdout",
          "text": [
            "Epoch 0, Train loss 1671.2861694693565, Test loss 361.7616295814514\n",
            "Epoch 1, Train loss 830.2785234451294, Test loss 170.60651499032974\n",
            "Epoch 2, Train loss 663.4133141934872, Test loss 123.64156544208527\n",
            "Epoch 3, Train loss 579.427224189043, Test loss 107.18378725647926\n",
            "Epoch 4, Train loss 528.7913171052933, Test loss 94.07629960775375\n",
            "Epoch 5, Train loss 493.9728664457798, Test loss 90.59581160545349\n",
            "Epoch 6, Train loss 466.757394567132, Test loss 84.28528353571892\n",
            "Epoch 7, Train loss 447.70070995390415, Test loss 85.90157154202461\n",
            "Epoch 8, Train loss 431.0974342226982, Test loss 77.91709996759892\n",
            "Epoch 9, Train loss 418.75459088385105, Test loss 80.61609056591988\n"
          ]
        }
      ]
    },
    {
      "cell_type": "code",
      "source": [
        "plt.plot(range(Epoch),train_losses, label='Train error')\n",
        "plt.plot(range(Epoch),test_losses, label='Test error')\n",
        "plt.xlabel('Epoch')\n",
        "plt.ylabel('Loss')\n",
        "plt.legend()\n",
        "plt.show()"
      ],
      "metadata": {
        "colab": {
          "base_uri": "https://localhost:8080/",
          "height": 449
        },
        "id": "LOl7AUTUVv8o",
        "outputId": "8032c02a-4cc1-4ca9-c6c7-4bbe280fa9a7"
      },
      "execution_count": null,
      "outputs": [
        {
          "output_type": "display_data",
          "data": {
            "text/plain": [
              "<Figure size 640x480 with 1 Axes>"
            ],
            "image/png": "[encoded data removed]"
          },
          "metadata": {}
        }
      ]
    },
    {
      "cell_type": "code",
      "source": [
        "predicted_classes = torch.max(predicted_output, 1)[1]\n",
        "print('Predicted:', predicted_classes)\n",
        "print('Labels:', labels)"
      ],
      "metadata": {
        "colab": {
          "base_uri": "https://localhost:8080/"
        },
        "id": "rqNYhyMvV6vn",
        "outputId": "263194a8-3e5f-4b9d-ff2e-fc3522ccc0a5"
      },
      "execution_count": null,
      "outputs": [
        {
          "output_type": "stream",
          "name": "stdout",
          "text": [
            "Predicted: tensor([1, 6, 3, 4, 5, 9, 4, 1, 0, 3, 5, 6, 7, 6, 7, 7, 5, 6, 8, 3, 9, 5, 1, 7,\n",
            "        4, 8, 0, 9, 3, 8, 4, 3])\n",
            "Labels: tensor([1, 4, 1, 2, 7, 9, 2, 1, 0, 3, 5, 6, 7, 6, 7, 7, 5, 6, 8, 3, 9, 5, 1, 7,\n",
            "        2, 4, 0, 5, 8, 8, 2, 3])\n"
          ]
        }
      ]
    },
    {
      "cell_type": "code",
      "source": [
        "items = {\n",
        "    0 : \"T-shirt/top\",\n",
        "1 : \"Trouser\",\n",
        "2 : \"Pullover\",\n",
        "3 : \"Dress\",\n",
        "4 : \"Coat\",\n",
        "5 : \"Sandal\",\n",
        "6 : \"Shirt\",\n",
        "7 : \"Sneaker\",\n",
        "8 : \"Bag\",\n",
        "9 : \"Ankle boot\"\n",
        "}"
      ],
      "metadata": {
        "id": "OAnNsKKafIEY"
      },
      "execution_count": null,
      "outputs": []
    },
    {
      "cell_type": "code",
      "source": [
        "i = 1\n",
        "print('Predicted:', items[predicted_classes[i].item()])\n",
        "print('Labels:', items[labels[i].item()])\n",
        "plt.imshow(images[i].squeeze().cpu()) # Visualize iamge\n",
        "plt.show()"
      ],
      "metadata": {
        "colab": {
          "base_uri": "https://localhost:8080/",
          "height": 465
        },
        "id": "87tWAqd_XgOZ",
        "outputId": "f00ce618-a531-46e4-afdd-93a407cfb36c"
      },
      "execution_count": null,
      "outputs": [
        {
          "output_type": "stream",
          "name": "stdout",
          "text": [
            "Predicted: Shirt\n",
            "Labels: Coat\n"
          ]
        },
        {
          "output_type": "display_data",
          "data": {
            "text/plain": [
              "<Figure size 640x480 with 1 Axes>"
            ],
            "image/png": "[encoded data removed]"
          },
          "metadata": {}
        }
      ]
    },
    {
      "cell_type": "code",
      "source": [
        "i = 10\n",
        "print('Predicted:', items[predicted_classes[i].item()])\n",
        "print('Labels:', items[labels[i].item()])\n",
        "plt.imshow(images[i].squeeze().cpu()) # Visualize iamge\n",
        "plt.show()"
      ],
      "metadata": {
        "colab": {
          "base_uri": "https://localhost:8080/",
          "height": 465
        },
        "id": "rTdN5N5FXj0X",
        "outputId": "9673a94c-4d70-43f4-880c-cf02b0967ad0"
      },
      "execution_count": null,
      "outputs": [
        {
          "output_type": "stream",
          "name": "stdout",
          "text": [
            "Predicted: Sandal\n",
            "Labels: Sandal\n"
          ]
        },
        {
          "output_type": "display_data",
          "data": {
            "text/plain": [
              "<Figure size 640x480 with 1 Axes>"
            ],
            "image/png": "[encoded data removed]"
          },
          "metadata": {}
        }
      ]
    },
    {
      "cell_type": "code",
      "source": [
        "i = 9\n",
        "print('Predicted:', items[predicted_classes[i].item()])\n",
        "print('Labels:', items[labels[i].item()])\n",
        "plt.imshow(images[i].squeeze().cpu()) # Visualize iamge\n",
        "plt.show()"
      ],
      "metadata": {
        "colab": {
          "base_uri": "https://localhost:8080/",
          "height": 465
        },
        "id": "-5xj48WTeVu4",
        "outputId": "46f320da-30e8-49ba-c1f9-801713d9a126"
      },
      "execution_count": null,
      "outputs": [
        {
          "output_type": "stream",
          "name": "stdout",
          "text": [
            "Predicted: Dress\n",
            "Labels: Dress\n"
          ]
        },
        {
          "output_type": "display_data",
          "data": {
            "text/plain": [
              "<Figure size 640x480 with 1 Axes>"
            ],
            "image/png": "[encoded data removed]"
          },
          "metadata": {}
        }
      ]
    },
    {
      "cell_type": "code",
      "source": [],
      "metadata": {
        "id": "IcCWMJQYeYL3"
      },
      "execution_count": null,
      "outputs": []
    }
  ]
}